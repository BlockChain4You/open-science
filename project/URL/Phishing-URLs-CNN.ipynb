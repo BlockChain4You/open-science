{
 "cells": [
  {
   "cell_type": "code",
   "execution_count": 1,
   "metadata": {},
   "outputs": [
    {
     "name": "stdout",
     "output_type": "stream",
     "text": [
      "3.5.2 (default, Nov 17 2016, 17:05:23) \n",
      "[GCC 5.4.0 20160609]\n",
      "['/cpu:0', '/gpu:0']\n"
     ]
    }
   ],
   "source": [
    "import sys\n",
    "\n",
    "print (sys.version)\n",
    "\n",
    "from tensorflow.python.client import device_lib\n",
    "\n",
    "def get_available_devices():  \n",
    "    local_device_protos = device_lib.list_local_devices()\n",
    "    return [x.name for x in local_device_protos]\n",
    "\n",
    "print(get_available_devices())  "
   ]
  },
  {
   "cell_type": "code",
   "execution_count": 2,
   "metadata": {
    "collapsed": true
   },
   "outputs": [],
   "source": [
    "import numpy as np\n",
    "\n",
    "import pandas as pd\n",
    "\n",
    "pd.options.mode.chained_assignment = None\n",
    "\n",
    "pd.set_option('display.max_columns', 500)\n",
    "pd.set_option('display.width', 1000)\n",
    "\n",
    "%matplotlib inline\n",
    "# %matplotlib notebook\n",
    "\n",
    "import matplotlib as mpl\n",
    "\n",
    "import matplotlib.pyplot as plt\n",
    "\n",
    "from pprint import pprint"
   ]
  },
  {
   "cell_type": "code",
   "execution_count": 3,
   "metadata": {},
   "outputs": [
    {
     "data": {
      "text/html": [
       "<div>\n",
       "<style>\n",
       "    .dataframe thead tr:only-child th {\n",
       "        text-align: right;\n",
       "    }\n",
       "\n",
       "    .dataframe thead th {\n",
       "        text-align: left;\n",
       "    }\n",
       "\n",
       "    .dataframe tbody tr th {\n",
       "        vertical-align: top;\n",
       "    }\n",
       "</style>\n",
       "<table border=\"1\" class=\"dataframe\">\n",
       "  <thead>\n",
       "    <tr style=\"text-align: right;\">\n",
       "      <th></th>\n",
       "      <th>url</th>\n",
       "      <th>phishing</th>\n",
       "    </tr>\n",
       "  </thead>\n",
       "  <tbody>\n",
       "    <tr>\n",
       "      <th>0</th>\n",
       "      <td>http://www.subalipack.com/contact/images/sampl...</td>\n",
       "      <td>1</td>\n",
       "    </tr>\n",
       "    <tr>\n",
       "      <th>1</th>\n",
       "      <td>http://fasc.maximecapellot-gypsyjazz-ensemble....</td>\n",
       "      <td>1</td>\n",
       "    </tr>\n",
       "    <tr>\n",
       "      <th>2</th>\n",
       "      <td>http://theotheragency.com/confirmer/confirmer-...</td>\n",
       "      <td>1</td>\n",
       "    </tr>\n",
       "    <tr>\n",
       "      <th>3</th>\n",
       "      <td>http://aaalandscaping.com/components/com_smart...</td>\n",
       "      <td>1</td>\n",
       "    </tr>\n",
       "    <tr>\n",
       "      <th>4</th>\n",
       "      <td>http://paypal.com.confirm-key-21107316126168.s...</td>\n",
       "      <td>1</td>\n",
       "    </tr>\n",
       "    <tr>\n",
       "      <th>5</th>\n",
       "      <td>http://lcthomasdeiriarte.edu.co/plugins/system...</td>\n",
       "      <td>1</td>\n",
       "    </tr>\n",
       "    <tr>\n",
       "      <th>6</th>\n",
       "      <td>http://livetoshare.org/open/service-apps.com.c...</td>\n",
       "      <td>1</td>\n",
       "    </tr>\n",
       "    <tr>\n",
       "      <th>7</th>\n",
       "      <td>http://www.i-m.co/reactivate/webupgrade/\\n</td>\n",
       "      <td>1</td>\n",
       "    </tr>\n",
       "    <tr>\n",
       "      <th>8</th>\n",
       "      <td>http://manuelfernando.co/sparkatse/index.htm\\n</td>\n",
       "      <td>1</td>\n",
       "    </tr>\n",
       "    <tr>\n",
       "      <th>9</th>\n",
       "      <td>http://www.bladesmithnews.com/confirmation-pay...</td>\n",
       "      <td>1</td>\n",
       "    </tr>\n",
       "  </tbody>\n",
       "</table>\n",
       "</div>"
      ],
      "text/plain": [
       "                                                 url  phishing\n",
       "0  http://www.subalipack.com/contact/images/sampl...         1\n",
       "1  http://fasc.maximecapellot-gypsyjazz-ensemble....         1\n",
       "2  http://theotheragency.com/confirmer/confirmer-...         1\n",
       "3  http://aaalandscaping.com/components/com_smart...         1\n",
       "4  http://paypal.com.confirm-key-21107316126168.s...         1\n",
       "5  http://lcthomasdeiriarte.edu.co/plugins/system...         1\n",
       "6  http://livetoshare.org/open/service-apps.com.c...         1\n",
       "7         http://www.i-m.co/reactivate/webupgrade/\\n         1\n",
       "8     http://manuelfernando.co/sparkatse/index.htm\\n         1\n",
       "9  http://www.bladesmithnews.com/confirmation-pay...         1"
      ]
     },
     "execution_count": 3,
     "metadata": {},
     "output_type": "execute_result"
    }
   ],
   "source": [
    "# sample dataset (20K malicious URLs and 20K benign URLs)\n",
    "# from https://github.com/albahnsen/ML_SecurityInformatics/blob/master/datasets/phishing.csv.zip\n",
    "\n",
    "df = pd.read_csv('phishing.csv.gz', compression='gzip')\n",
    "\n",
    "df.head(10)"
   ]
  },
  {
   "cell_type": "code",
   "execution_count": 4,
   "metadata": {},
   "outputs": [
    {
     "data": {
      "text/plain": [
       "1    20000\n",
       "0    20000\n",
       "Name: phishing, dtype: int64"
      ]
     },
     "execution_count": 4,
     "metadata": {},
     "output_type": "execute_result"
    }
   ],
   "source": [
    "df.phishing.value_counts()"
   ]
  },
  {
   "cell_type": "code",
   "execution_count": 5,
   "metadata": {},
   "outputs": [
    {
     "name": "stdout",
     "output_type": "stream",
     "text": [
      "['http://dothan.com.co/gold/austspark/index.htm',\n",
      " 'http://78.142.63.63/%7Enetsysco/process/fc1d9c7ea4773b7ff90925c2902cb5f2',\n",
      " 'http://verify95.5gbfree.com/coverme2010/',\n",
      " 'http://www.racom.com/uploads/productscat/bookmark/ii.php?.rand=13vqcr8bp0gud&cbcxt=mai&email=abuse@tradinghouse.ca',\n",
      " 'http://www.cleanenergytci.com/components/update.logon.l3an7lofamerica/2342343234532534546347677898765432876543345687656543876/',\n",
      " 'http://209.148.89.163/-/santander.co.uk/weblegn/AccountLogin.php',\n",
      " 'http://senevi.com/confirmation/',\n",
      " 'http://www.hellenkeller.cl/tmp/new/noticias/Modulo_de_Atualizacao_Bradesco/index2.php?id=PSO1AM04L3Q6PSBNVJ82QUCO0L5GBSY2KM2U9BYUEO14HCRDVZEMTRB3DGJO9HPT4ROC4M8HA8LRJD5FCJ27AD0NTSC3A3VDUJQX6XFG519OED4RW6Y8J8VC19EAAAO5UF21CHGHIP7W4AO1GM8ZU4BUBQ6L2UQVARVM',\n",
      " 'http://internet-sicherheit.co/de/konflikt/src%3Dde/AZ00276ZZ75/we%3Dhs_0_2/sicherheit/konto_verifizieren/verifizierung.php',\n",
      " 'http://alen.co/docs/cleaner',\n",
      " 'http://rattanhouse.co/Atualizacao_Bradesco/cadastro2013.php?2MAS2XACUJPI3U8D9ZDDG2G9YJICVABQ3K73KWDKYK0NA0AWWWCOUEDUJRXHRKPNMUYLDV89RA6OCG2MQUS0TAUXX9IOGJUEIXPDS5B0RM18OF1H860UAMJOY6ICUR81VSEKKJFPBYNLYGUXBGJ1HEHKOMLTM01P658M',\n",
      " 'http://steamcommunily.co/p.php?login=true',\n",
      " 'http://www.nyyg.com/Bradesco/5W9SQ394.html',\n",
      " 'http://wp.tipografiacentral.com.co/sparkde/index.html',\n",
      " 'http://www.entrerev.com/component/.secure.wpa/.www.paypal.com.returnUrl=/cgi-bin/5RF3S6y0K349/PayPal.co.uk/dispute_centre/sotmks/npsw&st.payment.decline.centre/ipoi/secure-codes.paypal.account4738154login.complete-infrmations.login.accountSecure26/securities/',\n",
      " 'http://x.co/SecurCent',\n",
      " 'http://dejatequerer.co/united.com/index.html',\n",
      " 'http://www.speakeasymovies.com/components/com_wrapper/.amazon.co.uk/',\n",
      " 'http://www.culturaespanola.com.br/bt/www.paypal.com/paypal.com.com/index-new.php',\n",
      " 'http://www.agroassistance.com/components/com_content/c05354aa285b6a932a57086ba13762a1/']\n"
     ]
    }
   ],
   "source": [
    "# remove line breaks\n",
    "df['url2'] = df.url.str.rstrip()\n",
    "\n",
    "pprint(df.url2[df.phishing == 1].sample(20, random_state=1).tolist())"
   ]
  },
  {
   "cell_type": "code",
   "execution_count": 6,
   "metadata": {},
   "outputs": [
    {
     "name": "stdout",
     "output_type": "stream",
     "text": [
      "maximum length: 2080 \n"
     ]
    }
   ],
   "source": [
    "# find the maximum length of URLs\n",
    "\n",
    "urls = list(df.url2)\n",
    "\n",
    "max_len = 0\n",
    "\n",
    "for url in urls:\n",
    "  if (len(url) > max_len):\n",
    "    max_len = len(url)\n",
    "\n",
    "print('maximum length: %s '%max_len)"
   ]
  },
  {
   "cell_type": "code",
   "execution_count": 7,
   "metadata": {},
   "outputs": [
    {
     "name": "stdout",
     "output_type": "stream",
     "text": [
      "average length: 92.717225\n"
     ]
    }
   ],
   "source": [
    "# calculate the average length of URLs\n",
    "\n",
    "numChars = []\n",
    "\n",
    "for url in urls:\n",
    "  numChars.append(len(url))\n",
    "\n",
    "print('average length: %s'%(sum(numChars) / len(numChars)))"
   ]
  },
  {
   "cell_type": "code",
   "execution_count": 8,
   "metadata": {},
   "outputs": [
    {
     "data": {
      "image/png": "[encoded data removed]",
      "text/plain": [
       "<matplotlib.figure.Figure at 0x7fac4f4159b0>"
      ]
     },
     "metadata": {},
     "output_type": "display_data"
    }
   ],
   "source": [
    "# draw length distribution diagram\n",
    "\n",
    "plt.hist(numChars, 200)\n",
    "plt.xlabel('URL Length')\n",
    "plt.ylabel('Frequency')\n",
    "plt.axis([0, 500, 0, 6000])\n",
    "plt.show()"
   ]
  },
  {
   "cell_type": "code",
   "execution_count": 9,
   "metadata": {},
   "outputs": [
    {
     "name": "stdout",
     "output_type": "stream",
     "text": [
      "totally 98 characters found.\n"
     ]
    }
   ],
   "source": [
    "charsList = [list(url) for url in urls]\n",
    "\n",
    "from collections import defaultdict\n",
    "\n",
    "frequency = defaultdict(int)\n",
    "\n",
    "for chars in charsList:\n",
    "  for char in chars:\n",
    "    frequency[char] += 1\n",
    "\n",
    "print('totally %s characters found.'%(len(frequency)))"
   ]
  },
  {
   "cell_type": "code",
   "execution_count": 11,
   "metadata": {},
   "outputs": [
    {
     "data": {
      "image/png": "[encoded data removed]",
      "text/plain": [
       "<matplotlib.figure.Figure at 0x7fac4f32b320>"
      ]
     },
     "metadata": {},
     "output_type": "display_data"
    }
   ],
   "source": [
    "chars = frequency.keys()\n",
    "freqs = frequency.values()\n",
    "\n",
    "pos = np.arange(len(chars))\n",
    "width = 1.0\n",
    "\n",
    "ax = plt.axes()\n",
    "ax.set_xticks(pos + (width / 2))\n",
    "ax.set_xticklabels(chars)\n",
    "\n",
    "plt.bar(pos, freqs, width, color='b')\n",
    "# mpl.rcParams[\"figure.figsize\"] = (12.0, 6.0)\n",
    "plt.rcParams[\"figure.figsize\"] = [12.0, 6.0]\n",
    "plt.show()"
   ]
  },
  {
   "cell_type": "code",
   "execution_count": 12,
   "metadata": {},
   "outputs": [
    {
     "name": "stdout",
     "output_type": "stream",
     "text": [
      "totally 6 characters with occurrence less than 5.\n",
      "\\ : 1\n",
      "> : 1\n",
      "ü : 1\n",
      "¢ : 4\n",
      "£ : 4\n",
      "ä : 1\n"
     ]
    }
   ],
   "source": [
    "# find rare character list\n",
    "\n",
    "frequency2 = defaultdict(int)\n",
    "\n",
    "for char, count in frequency.items():\n",
    "  if (count < 5):\n",
    "    frequency2[char] = count\n",
    "\n",
    "print('totally %s characters with occurrence less than 5.'%(len(frequency2)))\n",
    "\n",
    "for k, v in frequency2.items():\n",
    "    print('%s : %s'%(k,v))"
   ]
  },
  {
   "cell_type": "code",
   "execution_count": 13,
   "metadata": {
    "collapsed": true
   },
   "outputs": [],
   "source": [
    "# convert character into index using index dictionary\n",
    "\n",
    "dictionary = defaultdict(int)\n",
    "\n",
    "id = 0\n",
    "\n",
    "for char, count in frequency.items():\n",
    "  dictionary[char] = id\n",
    "  id += 1\n",
    "\n",
    "corpus = [[dictionary[char] for char in chars] for chars in charsList]"
   ]
  },
  {
   "cell_type": "code",
   "execution_count": 14,
   "metadata": {
    "collapsed": true
   },
   "outputs": [],
   "source": [
    "Y = list(df.phishing)\n",
    "\n",
    "from sklearn.model_selection import train_test_split\n",
    "\n",
    "corpus_train, corpus_test, Y_train, Y_test = train_test_split(corpus, Y, test_size=0.2, random_state=42)"
   ]
  },
  {
   "cell_type": "code",
   "execution_count": 15,
   "metadata": {
    "collapsed": true
   },
   "outputs": [],
   "source": [
    "import pickle\n",
    "\n",
    "pickle.dump(corpus_train, open( \"corpus_train.pkl\", \"wb\" ))\n",
    "pickle.dump(corpus_test, open( \"corpus_test.pkl\", \"wb\" ))\n",
    "pickle.dump(Y_train, open( \"Y_train.pkl\", \"wb\" ))\n",
    "pickle.dump(Y_test, open( \"Y_test.pkl\", \"wb\" ))"
   ]
  },
  {
   "cell_type": "code",
   "execution_count": 2,
   "metadata": {
    "collapsed": true
   },
   "outputs": [],
   "source": [
    "# start from here during next runs, to skip data pre-processing steps\n",
    "\n",
    "import pickle\n",
    "\n",
    "corpus_train = pickle.load( open( \"corpus_train.pkl\", \"rb\" ) )\n",
    "corpus_test = pickle.load( open( \"corpus_test.pkl\", \"rb\" ) )\n",
    "Y_train = pickle.load( open( \"Y_train.pkl\", \"rb\" ) )\n",
    "Y_test = pickle.load( open( \"Y_test.pkl\", \"rb\" ) )"
   ]
  },
  {
   "cell_type": "code",
   "execution_count": 15,
   "metadata": {},
   "outputs": [
    {
     "data": {
      "text/plain": [
       "intra_op_parallelism_threads: 8\n",
       "inter_op_parallelism_threads: 8\n",
       "gpu_options {\n",
       "  per_process_gpu_memory_fraction: 0.8\n",
       "}\n",
       "allow_soft_placement: true"
      ]
     },
     "execution_count": 15,
     "metadata": {},
     "output_type": "execute_result"
    }
   ],
   "source": [
    "import tensorflow as tf\n",
    "\n",
    "import tflearn\n",
    "\n",
    "# on g2.2xlarge (1 GPU, 8 vCPUs, 15 GiB memory)\n",
    "\n",
    "tflearn.init_graph(num_cores=8, gpu_memory_fraction=0.8, soft_placement=True)"
   ]
  },
  {
   "cell_type": "code",
   "execution_count": 16,
   "metadata": {
    "collapsed": true
   },
   "outputs": [],
   "source": [
    "from tflearn.data_utils import to_categorical, pad_sequences\n",
    "\n",
    "trainX_ = pad_sequences(corpus_train, maxlen=200, value=98)\n",
    "testX_ = pad_sequences(corpus_test, maxlen=200, value=98)\n",
    "\n",
    "trainY_ = to_categorical(Y_train, nb_classes=2)\n",
    "testY_ = to_categorical(Y_test, nb_classes=2)\n",
    "\n",
    "trainX, trainY = tflearn.data_utils.shuffle(trainX_, trainY_)\n",
    "testX, testY = tflearn.data_utils.shuffle(testX_, testY_)"
   ]
  },
  {
   "cell_type": "code",
   "execution_count": 17,
   "metadata": {
    "collapsed": true
   },
   "outputs": [],
   "source": [
    "from tflearn.layers.conv import conv_1d, global_max_pool\n",
    "from tflearn.layers.merge_ops import merge\n",
    "\n",
    "# comment it out at the first run\n",
    "# tf.reset_default_graph()\n",
    "\n",
    "net = tflearn.input_data(shape=[None, 200])\n",
    "\n",
    "def build_network(network):\n",
    "  network = tflearn.embedding(network, input_dim=99, output_dim=32)\n",
    "  branch2 = conv_1d(network, 128, 2, padding='valid', activation='relu', regularizer=\"L2\")\n",
    "  branch3 = conv_1d(network, 128, 3, padding='valid', activation='relu', regularizer=\"L2\")\n",
    "  branch4 = conv_1d(network, 128, 4, padding='valid', activation='relu', regularizer=\"L2\")\n",
    "  branch5 = conv_1d(network, 128, 5, padding='valid', activation='relu', regularizer=\"L2\")\n",
    "  branch6 = conv_1d(network, 128, 6, padding='valid', activation='relu', regularizer=\"L2\")\n",
    "  network = merge([branch2, branch3, branch4, branch5, branch6], mode='concat', axis=1)\n",
    "  network = tf.expand_dims(network, 2)\n",
    "  network = global_max_pool(network)\n",
    "  network = tflearn.dropout(network, 0.8)\n",
    "  network = tflearn.fully_connected(network, 2, activation='softmax')\n",
    "  network = tflearn.regression(network, optimizer='adam', learning_rate=0.001, loss='categorical_crossentropy')\n",
    "  return network\n",
    "\n",
    "# with tf.device('/gpu:0'):\n",
    "#   with tf.contrib.framework.arg_scope([tflearn.variables.variable], device='/cpu:0'):\n",
    "net = build_network(net)\n",
    "    \n",
    "# with tf.device('/cpu:0'):\n",
    "model = tflearn.DNN(net, tensorboard_verbose=0)"
   ]
  },
  {
   "cell_type": "code",
   "execution_count": 18,
   "metadata": {},
   "outputs": [
    {
     "name": "stdout",
     "output_type": "stream",
     "text": [
      "Training Step: 9999  | total loss: \u001b[1m\u001b[32m0.04768\u001b[0m\u001b[0m | time: 23.165s\n",
      "| Adam | epoch: 010 | loss: 0.04768 - acc: 0.9896 -- iter: 31968/32000\n",
      "Training Step: 10000  | total loss: \u001b[1m\u001b[32m0.04348\u001b[0m\u001b[0m | time: 25.352s\n",
      "| Adam | epoch: 010 | loss: 0.04348 - acc: 0.9907 | val_loss: 0.02172 - val_acc: 0.9935 -- iter: 32000/32000\n",
      "--\n",
      "INFO:tensorflow:/home/ubuntu/phishing-urls/notebook/cnn10.tfl is not in all_model_checkpoint_paths. Manually adding it.\n"
     ]
    }
   ],
   "source": [
    "accuracies_train = []\n",
    "accuracies_test = []\n",
    "\n",
    "for i in range(10):\n",
    "#  with tf.device('/gpu:0'):\n",
    "  model.fit(trainX, trainY, validation_set=(testX, testY), shuffle=True, show_metric=True, n_epoch=1, batch_size=32)\n",
    "  model.save(\"cnn%s.tfl\"%(i+1))\n",
    "  accuracies_train.append(model.evaluate(trainX_, trainY_))\n",
    "  accuracies_test.append(model.evaluate(testX_, testY_))"
   ]
  },
  {
   "cell_type": "code",
   "execution_count": 19,
   "metadata": {},
   "outputs": [
    {
     "name": "stdout",
     "output_type": "stream",
     "text": [
      "At epoch 1, the accuracy of train data is 0.97990625, the accuracy of test data is 0.982\n",
      "At epoch 2, the accuracy of train data is 0.98796875, the accuracy of test data is 0.9865\n",
      "At epoch 3, the accuracy of train data is 0.99321875, the accuracy of test data is 0.990875\n",
      "At epoch 4, the accuracy of train data is 0.9916875, the accuracy of test data is 0.989\n",
      "At epoch 5, the accuracy of train data is 0.994375, the accuracy of test data is 0.992375\n",
      "At epoch 6, the accuracy of train data is 0.9950625, the accuracy of test data is 0.9925\n",
      "At epoch 7, the accuracy of train data is 0.993625, the accuracy of test data is 0.990875\n",
      "At epoch 8, the accuracy of train data is 0.995875, the accuracy of test data is 0.993\n",
      "At epoch 9, the accuracy of train data is 0.9966875, the accuracy of test data is 0.99325\n",
      "At epoch 10, the accuracy of train data is 0.99665625, the accuracy of test data is 0.9935\n",
      "At epoch 10, the maximum accuracy of test data is 0.9935\n"
     ]
    }
   ],
   "source": [
    "max_accuracy = 0.0\n",
    "idx_at_max = 0\n",
    "\n",
    "for idx, accuracy in enumerate(accuracies_test):\n",
    "    print('At epoch %d, the accuracy of train data is %s, the accuracy of test data is %s'%((idx+1), accuracies_train[idx][0], accuracy[0]))\n",
    "    if (accuracy[0] > max_accuracy):\n",
    "        max_accuracy = accuracy[0]\n",
    "        idx_at_max = idx\n",
    "\n",
    "print('At epoch %d, the maximum accuracy of test data is %s'%((idx_at_max+1), max_accuracy))"
   ]
  },
  {
   "cell_type": "code",
   "execution_count": 20,
   "metadata": {
    "scrolled": true
   },
   "outputs": [
    {
     "name": "stdout",
     "output_type": "stream",
     "text": [
      "INFO:tensorflow:Restoring parameters from /home/ubuntu/phishing-urls/notebook/cnn9.tfl\n"
     ]
    }
   ],
   "source": [
    "# load the model with the highest accuracy if the last one does not give the highest accuracy\n",
    "\n",
    "model.load('cnn10.tfl')"
   ]
  },
  {
   "cell_type": "code",
   "execution_count": 20,
   "metadata": {},
   "outputs": [
    {
     "name": "stdout",
     "output_type": "stream",
     "text": [
      "The accuracy of train data is 99.67%\n",
      "The accuracy of test data is 99.35%\n"
     ]
    }
   ],
   "source": [
    "accuracy_train = model.evaluate(trainX_, trainY_)[0]\n",
    "\n",
    "print('The accuracy of train data is %s'%('{percent:.2%}'.format(percent=accuracy_train)))\n",
    "\n",
    "accuracy_test = model.evaluate(testX_, testY_)[0]\n",
    "\n",
    "print('The accuracy of test data is %s'%('{percent:.2%}'.format(percent=accuracy_test)))"
   ]
  },
  {
   "cell_type": "code",
   "execution_count": 21,
   "metadata": {},
   "outputs": [
    {
     "name": "stdout",
     "output_type": "stream",
     "text": [
      "null accuracy is 50.00%\n"
     ]
    }
   ],
   "source": [
    "null_accuracy = max(testY_.mean(), (1 - testY_.mean()))\n",
    "\n",
    "print('null accuracy is %s'%('{percent:.2%}'.format(percent= null_accuracy)))"
   ]
  },
  {
   "cell_type": "code",
   "execution_count": 22,
   "metadata": {
    "collapsed": true
   },
   "outputs": [],
   "source": [
    "import numpy as np\n",
    "\n",
    "predict_labels = np.zeros(len(testX_))\n",
    "\n",
    "batch_size = 100\n",
    "batches = len(testX_) // batch_size\n",
    "\n",
    "for i in range(batches):\n",
    "    start = i * batch_size\n",
    "    end = (i+1) * batch_size\n",
    "    pred = model.predict_label(testX_[start:end])\n",
    "    for j in range(batch_size):\n",
    "        predict_labels[start + j] = pred[j][0]"
   ]
  },
  {
   "cell_type": "code",
   "execution_count": 23,
   "metadata": {},
   "outputs": [
    {
     "name": "stdout",
     "output_type": "stream",
     "text": [
      "true negatives: 3971\n",
      "false negatives: 37\n",
      "true positives: 3977\n",
      "false positives: 15\n",
      "false postive rate: 0.376%\n",
      "false negative rate: 0.923%\n"
     ]
    }
   ],
   "source": [
    "from sklearn.metrics import confusion_matrix\n",
    "\n",
    "cm = confusion_matrix(Y_test, predict_labels)\n",
    "\n",
    "print('true negatives: %s'%cm[0,0])\n",
    "print('false negatives: %s'%cm[1,0])\n",
    "print('true positives: %s'%cm[1,1])\n",
    "print('false positives: %s'%cm[0,1])\n",
    "\n",
    "fpr = '{percent:.3%}'.format(percent= cm[0,1] / (cm[1,1] + cm[0,1]))\n",
    "fnr = '{percent:.3%}'.format(percent= cm[1,0] / (cm[0,0] + cm[1,0]))\n",
    "                             \n",
    "print('false postive rate: %s'%fpr)\n",
    "print('false negative rate: %s'%fnr)"
   ]
  },
  {
   "cell_type": "code",
   "execution_count": 24,
   "metadata": {},
   "outputs": [
    {
     "data": {
      "image/png": "[encoded data removed]",
      "text/plain": [
       "<matplotlib.figure.Figure at 0x7fac244ec400>"
      ]
     },
     "metadata": {},
     "output_type": "display_data"
    }
   ],
   "source": [
    "plt.matshow(cm)\n",
    "plt.title('Confusion matrix')\n",
    "plt.colorbar()\n",
    "plt.ylabel('True label')\n",
    "plt.xlabel('Predicted label')\n",
    "plt.show()"
   ]
  },
  {
   "cell_type": "code",
   "execution_count": 25,
   "metadata": {},
   "outputs": [
    {
     "name": "stdout",
     "output_type": "stream",
     "text": [
      "precision score: 0.99624248497\n",
      "recall score: 0.990782262083\n",
      "f1 score: 0.993504871346\n"
     ]
    }
   ],
   "source": [
    "from sklearn.metrics import precision_score\n",
    "\n",
    "print('precision score: %s'%precision_score(Y_test, predict_labels))\n",
    "\n",
    "\n",
    "from sklearn.metrics import recall_score\n",
    "\n",
    "print('recall score: %s'%recall_score(Y_test, predict_labels))\n",
    "\n",
    "\n",
    "from sklearn.metrics import f1_score\n",
    "\n",
    "print('f1 score: %s'%f1_score(Y_test, predict_labels))"
   ]
  },
  {
   "cell_type": "code",
   "execution_count": 26,
   "metadata": {},
   "outputs": [
    {
     "data": {
      "image/png": "[encoded data removed]",
      "text/plain": [
       "<matplotlib.figure.Figure at 0x7fac24ad2160>"
      ]
     },
     "metadata": {},
     "output_type": "display_data"
    }
   ],
   "source": [
    "from sklearn import metrics\n",
    "\n",
    "fpr, tpr, thresholds = metrics.roc_curve(Y_test, predict_labels, pos_label=1)\n",
    "\n",
    "import matplotlib.pyplot as plt\n",
    "\n",
    "plt.plot(fpr,tpr)\n",
    "plt.show() "
   ]
  },
  {
   "cell_type": "code",
   "execution_count": null,
   "metadata": {
    "collapsed": true
   },
   "outputs": [],
   "source": []
  }
 ],
 "metadata": {
  "kernelspec": {
   "display_name": "Python 3",
   "language": "python",
   "name": "python3"
  },
  "language_info": {
   "codemirror_mode": {
    "name": "ipython",
    "version": 3
   },
   "file_extension": ".py",
   "mimetype": "text/x-python",
   "name": "python",
   "nbconvert_exporter": "python",
   "pygments_lexer": "ipython3",
   "version": "3.5.2"
  }
 },
 "nbformat": 4,
 "nbformat_minor": 2
}
