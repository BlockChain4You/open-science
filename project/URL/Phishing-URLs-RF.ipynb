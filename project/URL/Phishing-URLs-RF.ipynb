{
 "cells": [
  {
   "cell_type": "code",
   "execution_count": 1,
   "metadata": {},
   "outputs": [
    {
     "name": "stdout",
     "output_type": "stream",
     "text": [
      "3.5.2 (default, Nov 17 2016, 17:05:23) \n",
      "[GCC 5.4.0 20160609]\n"
     ]
    }
   ],
   "source": [
    "import sys\n",
    "\n",
    "print (sys.version)"
   ]
  },
  {
   "cell_type": "code",
   "execution_count": 2,
   "metadata": {
    "collapsed": true
   },
   "outputs": [],
   "source": [
    "import numpy as np\n",
    "\n",
    "import pandas as pd\n",
    "\n",
    "pd.options.mode.chained_assignment = None\n",
    "\n",
    "pd.set_option('display.max_columns', 500)\n",
    "pd.set_option('display.width', 1000)\n",
    "\n",
    "%matplotlib inline\n",
    "\n",
    "import matplotlib as mpl\n",
    "\n",
    "import matplotlib.pyplot as plt\n",
    "\n",
    "from pprint import pprint"
   ]
  },
  {
   "cell_type": "code",
   "execution_count": 3,
   "metadata": {},
   "outputs": [
    {
     "data": {
      "text/html": [
       "<div>\n",
       "<style>\n",
       "    .dataframe thead tr:only-child th {\n",
       "        text-align: right;\n",
       "    }\n",
       "\n",
       "    .dataframe thead th {\n",
       "        text-align: left;\n",
       "    }\n",
       "\n",
       "    .dataframe tbody tr th {\n",
       "        vertical-align: top;\n",
       "    }\n",
       "</style>\n",
       "<table border=\"1\" class=\"dataframe\">\n",
       "  <thead>\n",
       "    <tr style=\"text-align: right;\">\n",
       "      <th></th>\n",
       "      <th>url</th>\n",
       "      <th>phishing</th>\n",
       "    </tr>\n",
       "  </thead>\n",
       "  <tbody>\n",
       "    <tr>\n",
       "      <th>0</th>\n",
       "      <td>http://www.subalipack.com/contact/images/sampl...</td>\n",
       "      <td>1</td>\n",
       "    </tr>\n",
       "    <tr>\n",
       "      <th>1</th>\n",
       "      <td>http://fasc.maximecapellot-gypsyjazz-ensemble....</td>\n",
       "      <td>1</td>\n",
       "    </tr>\n",
       "    <tr>\n",
       "      <th>2</th>\n",
       "      <td>http://theotheragency.com/confirmer/confirmer-...</td>\n",
       "      <td>1</td>\n",
       "    </tr>\n",
       "    <tr>\n",
       "      <th>3</th>\n",
       "      <td>http://aaalandscaping.com/components/com_smart...</td>\n",
       "      <td>1</td>\n",
       "    </tr>\n",
       "    <tr>\n",
       "      <th>4</th>\n",
       "      <td>http://paypal.com.confirm-key-21107316126168.s...</td>\n",
       "      <td>1</td>\n",
       "    </tr>\n",
       "    <tr>\n",
       "      <th>5</th>\n",
       "      <td>http://lcthomasdeiriarte.edu.co/plugins/system...</td>\n",
       "      <td>1</td>\n",
       "    </tr>\n",
       "    <tr>\n",
       "      <th>6</th>\n",
       "      <td>http://livetoshare.org/open/service-apps.com.c...</td>\n",
       "      <td>1</td>\n",
       "    </tr>\n",
       "    <tr>\n",
       "      <th>7</th>\n",
       "      <td>http://www.i-m.co/reactivate/webupgrade/\\n</td>\n",
       "      <td>1</td>\n",
       "    </tr>\n",
       "    <tr>\n",
       "      <th>8</th>\n",
       "      <td>http://manuelfernando.co/sparkatse/index.htm\\n</td>\n",
       "      <td>1</td>\n",
       "    </tr>\n",
       "    <tr>\n",
       "      <th>9</th>\n",
       "      <td>http://www.bladesmithnews.com/confirmation-pay...</td>\n",
       "      <td>1</td>\n",
       "    </tr>\n",
       "  </tbody>\n",
       "</table>\n",
       "</div>"
      ],
      "text/plain": [
       "                                                 url  phishing\n",
       "0  http://www.subalipack.com/contact/images/sampl...         1\n",
       "1  http://fasc.maximecapellot-gypsyjazz-ensemble....         1\n",
       "2  http://theotheragency.com/confirmer/confirmer-...         1\n",
       "3  http://aaalandscaping.com/components/com_smart...         1\n",
       "4  http://paypal.com.confirm-key-21107316126168.s...         1\n",
       "5  http://lcthomasdeiriarte.edu.co/plugins/system...         1\n",
       "6  http://livetoshare.org/open/service-apps.com.c...         1\n",
       "7         http://www.i-m.co/reactivate/webupgrade/\\n         1\n",
       "8     http://manuelfernando.co/sparkatse/index.htm\\n         1\n",
       "9  http://www.bladesmithnews.com/confirmation-pay...         1"
      ]
     },
     "execution_count": 3,
     "metadata": {},
     "output_type": "execute_result"
    }
   ],
   "source": [
    "# sample dataset (20K malicious URLs and 20K benign URLs)\n",
    "# from https://github.com/albahnsen/ML_SecurityInformatics/blob/master/datasets/phishing.csv.zip\n",
    "\n",
    "df = pd.read_csv('phishing.csv.gz', compression='gzip')\n",
    "\n",
    "df.head(10)"
   ]
  },
  {
   "cell_type": "code",
   "execution_count": 4,
   "metadata": {},
   "outputs": [
    {
     "data": {
      "text/plain": [
       "1    20000\n",
       "0    20000\n",
       "Name: phishing, dtype: int64"
      ]
     },
     "execution_count": 4,
     "metadata": {},
     "output_type": "execute_result"
    }
   ],
   "source": [
    "df.phishing.value_counts()"
   ]
  },
  {
   "cell_type": "code",
   "execution_count": 5,
   "metadata": {},
   "outputs": [
    {
     "name": "stdout",
     "output_type": "stream",
     "text": [
      "['http://dothan.com.co/gold/austspark/index.htm',\n",
      " 'http://78.142.63.63/%7Enetsysco/process/fc1d9c7ea4773b7ff90925c2902cb5f2',\n",
      " 'http://verify95.5gbfree.com/coverme2010/',\n",
      " 'http://www.racom.com/uploads/productscat/bookmark/ii.php?.rand=13vqcr8bp0gud&cbcxt=mai&email=abuse@tradinghouse.ca',\n",
      " 'http://www.cleanenergytci.com/components/update.logon.l3an7lofamerica/2342343234532534546347677898765432876543345687656543876/',\n",
      " 'http://209.148.89.163/-/santander.co.uk/weblegn/AccountLogin.php',\n",
      " 'http://senevi.com/confirmation/',\n",
      " 'http://www.hellenkeller.cl/tmp/new/noticias/Modulo_de_Atualizacao_Bradesco/index2.php?id=PSO1AM04L3Q6PSBNVJ82QUCO0L5GBSY2KM2U9BYUEO14HCRDVZEMTRB3DGJO9HPT4ROC4M8HA8LRJD5FCJ27AD0NTSC3A3VDUJQX6XFG519OED4RW6Y8J8VC19EAAAO5UF21CHGHIP7W4AO1GM8ZU4BUBQ6L2UQVARVM',\n",
      " 'http://internet-sicherheit.co/de/konflikt/src%3Dde/AZ00276ZZ75/we%3Dhs_0_2/sicherheit/konto_verifizieren/verifizierung.php',\n",
      " 'http://alen.co/docs/cleaner',\n",
      " 'http://rattanhouse.co/Atualizacao_Bradesco/cadastro2013.php?2MAS2XACUJPI3U8D9ZDDG2G9YJICVABQ3K73KWDKYK0NA0AWWWCOUEDUJRXHRKPNMUYLDV89RA6OCG2MQUS0TAUXX9IOGJUEIXPDS5B0RM18OF1H860UAMJOY6ICUR81VSEKKJFPBYNLYGUXBGJ1HEHKOMLTM01P658M',\n",
      " 'http://steamcommunily.co/p.php?login=true',\n",
      " 'http://www.nyyg.com/Bradesco/5W9SQ394.html',\n",
      " 'http://wp.tipografiacentral.com.co/sparkde/index.html',\n",
      " 'http://www.entrerev.com/component/.secure.wpa/.www.paypal.com.returnUrl=/cgi-bin/5RF3S6y0K349/PayPal.co.uk/dispute_centre/sotmks/npsw&st.payment.decline.centre/ipoi/secure-codes.paypal.account4738154login.complete-infrmations.login.accountSecure26/securities/',\n",
      " 'http://x.co/SecurCent',\n",
      " 'http://dejatequerer.co/united.com/index.html',\n",
      " 'http://www.speakeasymovies.com/components/com_wrapper/.amazon.co.uk/',\n",
      " 'http://www.culturaespanola.com.br/bt/www.paypal.com/paypal.com.com/index-new.php',\n",
      " 'http://www.agroassistance.com/components/com_content/c05354aa285b6a932a57086ba13762a1/']\n"
     ]
    }
   ],
   "source": [
    "# remove line breaks\n",
    "df['url2'] = df.url.str.rstrip()\n",
    "\n",
    "pprint(df.url2[df.phishing == 1].sample(20, random_state=1).tolist())"
   ]
  },
  {
   "cell_type": "code",
   "execution_count": 6,
   "metadata": {},
   "outputs": [
    {
     "name": "stdout",
     "output_type": "stream",
     "text": [
      "maximum length: 2080 \n",
      "average length: 92.717225\n"
     ]
    }
   ],
   "source": [
    "# find the maximum length of all URLs\n",
    "\n",
    "urls = list(df.url2)\n",
    "\n",
    "max_len = 0\n",
    "\n",
    "for url in urls:\n",
    "  if (len(url) > max_len):\n",
    "    max_len = len(url)\n",
    "\n",
    "print('maximum length: %s '%max_len)\n",
    "\n",
    "\n",
    "# calculate the average length of all URLs\n",
    "\n",
    "numChars = []\n",
    "\n",
    "for url in urls:\n",
    "  numChars.append(len(url))\n",
    "\n",
    "print('average length: %s'%(sum(numChars) / len(numChars)))"
   ]
  },
  {
   "cell_type": "code",
   "execution_count": 7,
   "metadata": {},
   "outputs": [
    {
     "data": {
      "image/png": "[encoded data removed]",
      "text/plain": [
       "<matplotlib.figure.Figure at 0x7faab4feda20>"
      ]
     },
     "metadata": {},
     "output_type": "display_data"
    }
   ],
   "source": [
    "# draw length distribution diagram\n",
    "\n",
    "plt.hist(numChars, 200)\n",
    "plt.xlabel('URL Length')\n",
    "plt.ylabel('Frequency')\n",
    "plt.axis([0, 500, 0, 6000])\n",
    "plt.show()"
   ]
  },
  {
   "cell_type": "code",
   "execution_count": 8,
   "metadata": {},
   "outputs": [
    {
     "name": "stdout",
     "output_type": "stream",
     "text": [
      "maximum length of benign URLs: 1108 \n",
      "average length of benign URLs: 84.28035\n",
      "maximum length of phishing URLs: 2080 \n",
      "average length of phishing URLs: 101.1541\n"
     ]
    }
   ],
   "source": [
    "# find maximum lengths and calcuate average lengths\n",
    "\n",
    "df_B = df[df.phishing == 0]\n",
    "df_P = df[df.phishing == 1]\n",
    "\n",
    "urls_B = list(df_B.url2)\n",
    "urls_P = list(df_P.url2)\n",
    "\n",
    "\n",
    "max_len_B = 0\n",
    "\n",
    "for url in urls_B:\n",
    "  if (len(url) > max_len_B):\n",
    "    max_len_B = len(url)\n",
    "\n",
    "print('maximum length of benign URLs: %s '%max_len_B)\n",
    "\n",
    "\n",
    "numChars_B = []\n",
    "\n",
    "for url in urls_B:\n",
    "  numChars_B.append(len(url))\n",
    "\n",
    "print('average length of benign URLs: %s'%(sum(numChars_B) / len(numChars_B)))\n",
    "\n",
    "\n",
    "max_len_P = 0\n",
    "\n",
    "for url in urls_P:\n",
    "  if (len(url) > max_len_P):\n",
    "    max_len_P = len(url)\n",
    "\n",
    "print('maximum length of phishing URLs: %s '%max_len_P)\n",
    "\n",
    "\n",
    "numChars_P = []\n",
    "\n",
    "for url in urls_P:\n",
    "  numChars_P.append(len(url))\n",
    "\n",
    "print('average length of phishing URLs: %s'%(sum(numChars_P) / len(numChars_P)))"
   ]
  },
  {
   "cell_type": "code",
   "execution_count": 9,
   "metadata": {},
   "outputs": [
    {
     "data": {
      "image/png": "[encoded data removed]",
      "text/plain": [
       "<matplotlib.figure.Figure at 0x7faab4eb98d0>"
      ]
     },
     "metadata": {},
     "output_type": "display_data"
    }
   ],
   "source": [
    "# draw length distribution diagrams\n",
    "\n",
    "plt.xlabel('URL Length')\n",
    "plt.ylabel('Frequency')\n",
    "plt.axis([0, 500, 0, 6000])\n",
    "\n",
    "plt.hist(numChars_B, 200, alpha=0.5, label='B', color='b')\n",
    "plt.hist(numChars_P, 200, alpha=0.5, label='P', color='r')\n",
    "plt.legend(loc='upper right')\n",
    "plt.show()"
   ]
  },
  {
   "cell_type": "code",
   "execution_count": 10,
   "metadata": {},
   "outputs": [
    {
     "name": "stdout",
     "output_type": "stream",
     "text": [
      "totally 98 characters found.\n"
     ]
    }
   ],
   "source": [
    "charsList = [list(url) for url in urls]\n",
    "\n",
    "from collections import defaultdict\n",
    "\n",
    "frequency = defaultdict(int)\n",
    "\n",
    "for chars in charsList:\n",
    "  for char in chars:\n",
    "    frequency[char] += 1\n",
    "\n",
    "print('totally %s characters found.'%(len(frequency)))"
   ]
  },
  {
   "cell_type": "code",
   "execution_count": 12,
   "metadata": {},
   "outputs": [
    {
     "data": {
      "image/png": "[encoded data removed]",
      "text/plain": [
       "<matplotlib.figure.Figure at 0x7faab2831cf8>"
      ]
     },
     "metadata": {},
     "output_type": "display_data"
    }
   ],
   "source": [
    "chars = frequency.keys()\n",
    "freqs = frequency.values()\n",
    "\n",
    "pos = np.arange(len(chars))\n",
    "width = 1.0\n",
    "\n",
    "ax = plt.axes()\n",
    "ax.set_xticks(pos + (width / 2))\n",
    "ax.set_xticklabels(chars)\n",
    "\n",
    "plt.bar(pos, freqs, width, color='b')\n",
    "# mpl.rcParams[\"figure.figsize\"] = (12.0, 6.0)\n",
    "plt.rcParams[\"figure.figsize\"] = [12.0, 6.0]\n",
    "plt.show()"
   ]
  },
  {
   "cell_type": "code",
   "execution_count": 13,
   "metadata": {},
   "outputs": [
    {
     "name": "stdout",
     "output_type": "stream",
     "text": [
      "totally 6 characters with occurrence less than 5.\n",
      "¢ : 4\n",
      "\\ : 1\n",
      "ä : 1\n",
      "£ : 4\n",
      "ü : 1\n",
      "> : 1\n"
     ]
    }
   ],
   "source": [
    "# find rare character list\n",
    "\n",
    "frequency2 = defaultdict(int)\n",
    "\n",
    "for char, count in frequency.items():\n",
    "  if (count < 5):\n",
    "    frequency2[char] = count\n",
    "\n",
    "print('totally %s characters with occurrence less than 5.'%(len(frequency2)))\n",
    "\n",
    "for k, v in frequency2.items():\n",
    "    print('%s : %s'%(k,v))"
   ]
  },
  {
   "cell_type": "code",
   "execution_count": 14,
   "metadata": {
    "collapsed": true
   },
   "outputs": [],
   "source": [
    "# extract token set from URLs\n",
    "\n",
    "def getTokens(url):\n",
    "  tokensBySlash = str(url.encode('utf-8')).split('/')\t#get tokens after splitting by slash\n",
    "  allTokens = []\n",
    "  for i in tokensBySlash:\n",
    "    tokens = str(i).split('-')\t#get tokens after splitting by dash\n",
    "    tokensByDot = []\n",
    "    for j in range(0,len(tokens)):\n",
    "      tempTokens = str(tokens[j]).split('.')\t#get tokens after splitting by dot\n",
    "      tokensByDot = tokensByDot + tempTokens\n",
    "    allTokens = allTokens + tokens + tokensByDot\n",
    "  allTokens = list(set(allTokens))\t#remove redundant tokens\n",
    "  if \"b'http:\" in allTokens:\n",
    "    allTokens.remove(\"b'http:\")\n",
    "  if '' in allTokens:\n",
    "    allTokens.remove('')\n",
    "  if 'com' in allTokens:\n",
    "    allTokens.remove('com')\t#removing .com since it occurs a lot of times and it should not be included in our features\n",
    "  return allTokens"
   ]
  },
  {
   "cell_type": "code",
   "execution_count": 15,
   "metadata": {},
   "outputs": [
    {
     "name": "stdout",
     "output_type": "stream",
     "text": [
      "['63',\n",
      " '78.142.63.63',\n",
      " '%7Enetsysco',\n",
      " \"fc1d9c7ea4773b7ff90925c2902cb5f2'\",\n",
      " '142',\n",
      " 'process',\n",
      " '78']\n"
     ]
    }
   ],
   "source": [
    "tokens = getTokens('http://78.142.63.63/%7Enetsysco/process/fc1d9c7ea4773b7ff90925c2902cb5f2')\n",
    "\n",
    "pprint(tokens)"
   ]
  },
  {
   "cell_type": "code",
   "execution_count": 16,
   "metadata": {
    "collapsed": true
   },
   "outputs": [],
   "source": [
    "from sklearn.feature_extraction.text import TfidfVectorizer\n",
    "\n",
    "vectorizer = TfidfVectorizer(tokenizer=getTokens)\n",
    "\n",
    "X = vectorizer.fit_transform(list(df.url2))\n",
    "\n",
    "Y = list(df.phishing)"
   ]
  },
  {
   "cell_type": "code",
   "execution_count": 17,
   "metadata": {
    "collapsed": true
   },
   "outputs": [],
   "source": [
    "from sklearn.model_selection import train_test_split\n",
    "\n",
    "X_train, X_test, Y_train, Y_test = train_test_split(X, Y, test_size=0.2)"
   ]
  },
  {
   "cell_type": "code",
   "execution_count": 18,
   "metadata": {
    "collapsed": true
   },
   "outputs": [],
   "source": [
    "import pickle\n",
    "\n",
    "pickle.dump(X_train, open( \"X_train.pkl\", \"wb\" ))\n",
    "pickle.dump(X_test, open( \"X_test.pkl\", \"wb\" ))\n",
    "pickle.dump(Y_train, open( \"Y_train.pkl\", \"wb\" ))\n",
    "pickle.dump(Y_test, open( \"Y_test.pkl\", \"wb\" ))"
   ]
  },
  {
   "cell_type": "code",
   "execution_count": 19,
   "metadata": {},
   "outputs": [
    {
     "data": {
      "text/plain": [
       "(8000, 50)"
      ]
     },
     "execution_count": 19,
     "metadata": {},
     "output_type": "execute_result"
    }
   ],
   "source": [
    "from sklearn.decomposition import TruncatedSVD\n",
    "\n",
    "X_test_SVD = TruncatedSVD(n_components=50, random_state=0).fit_transform(X_test)\n",
    "\n",
    "X_test_SVD.shape"
   ]
  },
  {
   "cell_type": "code",
   "execution_count": 20,
   "metadata": {},
   "outputs": [
    {
     "data": {
      "text/plain": [
       "(8000, 2)"
      ]
     },
     "execution_count": 20,
     "metadata": {},
     "output_type": "execute_result"
    }
   ],
   "source": [
    "from sklearn.manifold import TSNE\n",
    "\n",
    "X_test_tsne = TSNE(n_components=2).fit_transform(X_test_SVD)\n",
    "\n",
    "X_test_tsne.shape"
   ]
  },
  {
   "cell_type": "code",
   "execution_count": 21,
   "metadata": {
    "scrolled": true
   },
   "outputs": [
    {
     "data": {
      "image/png": "[encoded data removed]",
      "text/plain": [
       "<matplotlib.figure.Figure at 0x7faaa7ec1080>"
      ]
     },
     "metadata": {},
     "output_type": "display_data"
    }
   ],
   "source": [
    "for i in range(len(X_test_tsne)):\n",
    "    if (Y_test[i] == 0):\n",
    "        color = 'b'\n",
    "    elif (Y_test[i] == 1):\n",
    "        color = 'r'\n",
    "    else:\n",
    "        color = 'g'\n",
    "    plt.plot(X_test_tsne[i,0], X_test_tsne[i,1], marker='o', color=color, markersize=4)\n",
    "\n",
    "plt.show()"
   ]
  },
  {
   "cell_type": "code",
   "execution_count": 22,
   "metadata": {},
   "outputs": [
    {
     "data": {
      "text/plain": [
       "(8000, 2)"
      ]
     },
     "execution_count": 22,
     "metadata": {},
     "output_type": "execute_result"
    }
   ],
   "source": [
    "from sklearn.decomposition import PCA\n",
    "\n",
    "X_test_pca = PCA(n_components=2).fit_transform(X_test_SVD)\n",
    "\n",
    "X_test_pca.shape"
   ]
  },
  {
   "cell_type": "code",
   "execution_count": 23,
   "metadata": {},
   "outputs": [
    {
     "data": {
      "image/png": "[encoded data removed]",
      "text/plain": [
       "<matplotlib.figure.Figure at 0x7faaa7ec3f28>"
      ]
     },
     "metadata": {},
     "output_type": "display_data"
    }
   ],
   "source": [
    "for i in range(len(X_test_pca)):\n",
    "    if (Y_test[i] == 0):\n",
    "        color = 'b'\n",
    "    elif (Y_test[i] == 1):\n",
    "        color = 'r'\n",
    "    else:\n",
    "        color = 'g'\n",
    "    plt.plot(X_test_pca[i,0], X_test_pca[i,1], marker='o', color=color, markersize=4)\n",
    "\n",
    "plt.show()"
   ]
  },
  {
   "cell_type": "code",
   "execution_count": 24,
   "metadata": {},
   "outputs": [
    {
     "data": {
      "text/plain": [
       "RandomForestClassifier(bootstrap=True, class_weight=None, criterion='gini',\n",
       "            max_depth=None, max_features='sqrt', max_leaf_nodes=None,\n",
       "            min_impurity_split=1e-07, min_samples_leaf=2,\n",
       "            min_samples_split=2, min_weight_fraction_leaf=0.0,\n",
       "            n_estimators=100, n_jobs=8, oob_score=False, random_state=None,\n",
       "            verbose=0, warm_start=False)"
      ]
     },
     "execution_count": 24,
     "metadata": {},
     "output_type": "execute_result"
    }
   ],
   "source": [
    "from sklearn.ensemble import RandomForestClassifier\n",
    "\n",
    "rf = RandomForestClassifier(n_estimators=100, n_jobs=8, max_features='sqrt', min_samples_leaf=2)\n",
    "\n",
    "rf.fit(X_train, Y_train)"
   ]
  },
  {
   "cell_type": "code",
   "execution_count": 25,
   "metadata": {},
   "outputs": [
    {
     "name": "stdout",
     "output_type": "stream",
     "text": [
      "The accuracy of train data is 97.31%\n",
      "The accuracy of test data is 96.20%\n"
     ]
    }
   ],
   "source": [
    "accuracy_train = rf.score(X_train, Y_train) \n",
    "\n",
    "print('The accuracy of train data is %s'%('{percent:.2%}'.format(percent=accuracy_train)))\n",
    "\n",
    "accuracy_test = rf.score(X_test, Y_test) \n",
    "\n",
    "print('The accuracy of test data is %s'%('{percent:.2%}'.format(percent=accuracy_test)))"
   ]
  },
  {
   "cell_type": "code",
   "execution_count": 26,
   "metadata": {},
   "outputs": [
    {
     "name": "stdout",
     "output_type": "stream",
     "text": [
      "null accuracy is 50.01%\n"
     ]
    }
   ],
   "source": [
    "mean_test = np.mean(Y_test)\n",
    "\n",
    "null_accuracy = max(mean_test, (1 - mean_test))\n",
    "\n",
    "print('null accuracy is %s'%('{percent:.2%}'.format(percent=null_accuracy)))"
   ]
  },
  {
   "cell_type": "code",
   "execution_count": 27,
   "metadata": {
    "collapsed": true
   },
   "outputs": [],
   "source": [
    "predict_labels = rf.predict(X_test)"
   ]
  },
  {
   "cell_type": "code",
   "execution_count": 28,
   "metadata": {},
   "outputs": [
    {
     "name": "stdout",
     "output_type": "stream",
     "text": [
      "true negatives: 3852\n",
      "false negatives: 157\n",
      "true positives: 3844\n",
      "false positives: 147\n",
      "false postive rate: 3.683%\n",
      "false negative rate: 3.916%\n"
     ]
    }
   ],
   "source": [
    "from sklearn.metrics import confusion_matrix\n",
    "\n",
    "cm = confusion_matrix(Y_test, predict_labels)\n",
    "\n",
    "print('true negatives: %s'%cm[0,0])\n",
    "print('false negatives: %s'%cm[1,0])\n",
    "print('true positives: %s'%cm[1,1])\n",
    "print('false positives: %s'%cm[0,1])\n",
    "\n",
    "fpr = '{percent:.3%}'.format(percent= cm[0,1] / (cm[1,1] + cm[0,1]))\n",
    "fnr = '{percent:.3%}'.format(percent= cm[1,0] / (cm[0,0] + cm[1,0]))\n",
    "                             \n",
    "print('false postive rate: %s'%fpr)\n",
    "print('false negative rate: %s'%fnr)"
   ]
  },
  {
   "cell_type": "code",
   "execution_count": 29,
   "metadata": {},
   "outputs": [
    {
     "data": {
      "image/png": "[encoded data removed]",
      "text/plain": [
       "<matplotlib.figure.Figure at 0x7faa9f28d940>"
      ]
     },
     "metadata": {},
     "output_type": "display_data"
    }
   ],
   "source": [
    "plt.matshow(cm)\n",
    "plt.title('Confusion matrix')\n",
    "plt.colorbar()\n",
    "plt.ylabel('True label')\n",
    "plt.xlabel('Predicted label')\n",
    "plt.show()"
   ]
  },
  {
   "cell_type": "code",
   "execution_count": 30,
   "metadata": {},
   "outputs": [
    {
     "name": "stdout",
     "output_type": "stream",
     "text": [
      "precision score: 0.963167126034\n",
      "recall score: 0.960759810047\n",
      "f1 score: 0.961961961962\n"
     ]
    }
   ],
   "source": [
    "from sklearn.metrics import precision_score\n",
    "\n",
    "print('precision score: %s'%precision_score(Y_test, predict_labels))\n",
    "\n",
    "\n",
    "from sklearn.metrics import recall_score\n",
    "\n",
    "print('recall score: %s'%recall_score(Y_test, predict_labels))\n",
    "\n",
    "\n",
    "from sklearn.metrics import f1_score\n",
    "\n",
    "print('f1 score: %s'%f1_score(Y_test, predict_labels))"
   ]
  },
  {
   "cell_type": "code",
   "execution_count": 31,
   "metadata": {},
   "outputs": [
    {
     "data": {
      "image/png": "[encoded data removed]",
      "text/plain": [
       "<matplotlib.figure.Figure at 0x7faa9f19b5f8>"
      ]
     },
     "metadata": {},
     "output_type": "display_data"
    }
   ],
   "source": [
    "from sklearn import metrics\n",
    "\n",
    "fpr, tpr, thresholds = metrics.roc_curve(Y_test, predict_labels, pos_label=1)\n",
    "\n",
    "import matplotlib.pyplot as plt\n",
    "\n",
    "plt.plot(fpr,tpr)\n",
    "plt.show() "
   ]
  },
  {
   "cell_type": "code",
   "execution_count": null,
   "metadata": {
    "collapsed": true
   },
   "outputs": [],
   "source": []
  }
 ],
 "metadata": {
  "kernelspec": {
   "display_name": "Python 3",
   "language": "python",
   "name": "python3"
  },
  "language_info": {
   "codemirror_mode": {
    "name": "ipython",
    "version": 3
   },
   "file_extension": ".py",
   "mimetype": "text/x-python",
   "name": "python",
   "nbconvert_exporter": "python",
   "pygments_lexer": "ipython3",
   "version": "3.5.2"
  }
 },
 "nbformat": 4,
 "nbformat_minor": 2
}
